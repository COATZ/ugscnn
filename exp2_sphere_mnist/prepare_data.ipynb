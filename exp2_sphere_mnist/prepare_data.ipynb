{
 "cells": [
  {
   "cell_type": "code",
   "execution_count": 7,
   "metadata": {},
   "outputs": [],
   "source": [
    "import gzip\n",
    "import pickle\n",
    "import matplotlib.pyplot as plt\n",
    "from utils import interp_r2tos2\n",
    "from tqdm import tqdm_notebook as tqdm\n",
    "import numpy as np"
   ]
  },
  {
   "cell_type": "code",
   "execution_count": 2,
   "metadata": {},
   "outputs": [],
   "source": [
    "data = pickle.load(gzip.open(\"files/s2_mnist.gz\", \"rb\"))\n",
    "p = pickle.load(open(\"files/icosphere_3.pkl\", \"rb\"))\n",
    "V = p['V']\n",
    "F = p['F']\n",
    "x_train = data['train']['images']\n",
    "x_test = data['test']['images']\n",
    "y_train = data['train']['labels']\n",
    "y_test = data['test']['labels']"
   ]
  },
  {
   "cell_type": "code",
   "execution_count": 16,
   "metadata": {},
   "outputs": [
    {
     "name": "stdout",
     "output_type": "stream",
     "text": [
      "Converting training set...\n"
     ]
    },
    {
     "data": {
      "application/vnd.jupyter.widget-view+json": {
       "model_id": "c9a9f934b23b4a9a847c2621e7d39e6d",
       "version_major": 2,
       "version_minor": 0
      },
      "text/plain": [
       "HBox(children=(IntProgress(value=0, max=60000), HTML(value='')))"
      ]
     },
     "metadata": {},
     "output_type": "display_data"
    },
    {
     "name": "stdout",
     "output_type": "stream",
     "text": [
      "\n",
      "Converting test set...\n"
     ]
    },
    {
     "data": {
      "application/vnd.jupyter.widget-view+json": {
       "model_id": "0f2a6b2ba21c44aa9b659478f5fe0836",
       "version_major": 2,
       "version_minor": 0
      },
      "text/plain": [
       "HBox(children=(IntProgress(value=0, max=10000), HTML(value='')))"
      ]
     },
     "metadata": {},
     "output_type": "display_data"
    },
    {
     "name": "stdout",
     "output_type": "stream",
     "text": [
      "\n"
     ]
    }
   ],
   "source": [
    "x_train_s2 = []\n",
    "print(\"Converting training set...\")\n",
    "for i in tqdm(range(x_train.shape[0])):\n",
    "    x_train_s2.append(interp_r2tos2(x_train[i], V))\n",
    "\n",
    "x_test_s2 = []\n",
    "print(\"Converting test set...\")\n",
    "for i in tqdm(range(x_test.shape[0])):\n",
    "    x_test_s2.append(interp_r2tos2(x_test[i], V))"
   ]
  },
  {
   "cell_type": "code",
   "execution_count": 19,
   "metadata": {},
   "outputs": [],
   "source": [
    "x_train_s2 = np.stack(x_train_s2, axis=0)\n",
    "x_test_s2 = np.stack(x_test_s2, axis=0)"
   ]
  },
  {
   "cell_type": "code",
   "execution_count": 21,
   "metadata": {},
   "outputs": [
    {
     "name": "stdout",
     "output_type": "stream",
     "text": [
      "(60000, 642)\n",
      "(10000, 642)\n",
      "(60000,)\n",
      "(10000,)\n"
     ]
    }
   ],
   "source": [
    "print(x_train_s2.shape)\n",
    "print(x_test_s2.shape)\n",
    "print(y_train.shape)\n",
    "print(y_test.shape)"
   ]
  },
  {
   "cell_type": "code",
   "execution_count": 22,
   "metadata": {},
   "outputs": [],
   "source": [
    "d = {\"train_inputs\": x_train_s2,\n",
    "     \"train_labels\": y_train,\n",
    "     \"test_inputs\": x_test_s2,\n",
    "     \"test_labels\": y_test}\n",
    "pickle.dump(d, gzip.open(\"mnist_ico3.gzip\", \"wb\"))"
   ]
  }
 ],
 "metadata": {
  "kernelspec": {
   "display_name": "Python 3",
   "language": "python",
   "name": "python3"
  },
  "language_info": {
   "codemirror_mode": {
    "name": "ipython",
    "version": 3
   },
   "file_extension": ".py",
   "mimetype": "text/x-python",
   "name": "python",
   "nbconvert_exporter": "python",
   "pygments_lexer": "ipython3",
   "version": "3.5.2"
  }
 },
 "nbformat": 4,
 "nbformat_minor": 2
}
